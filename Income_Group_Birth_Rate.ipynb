{
  "nbformat": 4,
  "nbformat_minor": 0,
  "metadata": {
    "colab": {
      "provenance": [],
      "authorship_tag": "ABX9TyNxjLAoLrw94kEzy1kduwe6",
      "include_colab_link": true
    },
    "kernelspec": {
      "name": "python3",
      "display_name": "Python 3"
    },
    "language_info": {
      "name": "python"
    }
  },
  "cells": [
    {
      "cell_type": "markdown",
      "metadata": {
        "id": "view-in-github",
        "colab_type": "text"
      },
      "source": [
        "<a href=\"https://colab.research.google.com/github/olloz8/BigData2024/blob/main/Income_Group_Birth_Rate.ipynb\" target=\"_parent\"><img src=\"https://colab.research.google.com/assets/colab-badge.svg\" alt=\"Open In Colab\"/></a>"
      ]
    },
    {
      "cell_type": "code",
      "execution_count": null,
      "metadata": {
        "id": "CeEu9EVP84wS"
      },
      "outputs": [],
      "source": [
        "#깃허브 연동\n",
        "!git clone https://github.com/olloz8/BigData2024.git"
      ]
    },
    {
      "cell_type": "code",
      "source": [
        "import pandas as pd\n",
        "\n",
        "# CSV 파일 읽기\n",
        "df = pd.read_csv('birthrate.csv', encoding='utf-8')\n",
        "\n",
        "# 데이터 확인\n",
        "print(df)\n",
        "print(\"=============================================================================\")\n",
        "\n",
        "\n",
        "# 첫 두 행 제거\n",
        "df = df.drop(index=[0, 1])\n",
        "\n",
        "# 열 이름 재설정\n",
        "df.columns = ['소득구간', '합계', '자녀없음', '자녀있음_소계', '자녀있음_1명', '자녀있음_2명', '자녀있음_3명이상', '평균_출생아수']\n",
        "print(df)\n",
        "print(\"=============================================================================\")\n",
        "\n",
        "# 데이터 타입 변환\n",
        "for col in df.columns[1:]:\n",
        "    df[col] = pd.to_numeric(df[col], errors='coerce')\n",
        "print(df)\n",
        "\n",
        "# 평균 출생아수에 대한 간단한 통계\n",
        "average_birth_rate = df['평균_출생아수'].mean()\n",
        "print(\"평균 출생아수:\", average_birth_rate)"
      ],
      "metadata": {
        "colab": {
          "base_uri": "https://localhost:8080/"
        },
        "id": "y1ksGraU97sw",
        "outputId": "07711982-6cab-46d3-bd05-124e134669cd"
      },
      "execution_count": 3,
      "outputs": [
        {
          "output_type": "stream",
          "name": "stdout",
          "text": [
            "            소득구간별(1)    2022 2022.1 2022.2 2022.3 2022.4 2022.5       2022.6\n",
            "0           소득구간별(1)  합계 (%)   자녀없음   자녀있음   자녀있음   자녀있음   자녀있음  평균 출생아수 (명)\n",
            "1           소득구간별(1)      소계     소계     소계     1명     2명   3명이상           소계\n",
            "2                 합계   100.0   42.5   57.5   39.7   15.1    2.7         0.79\n",
            "3          1,000만원미만   100.0   33.9   66.1   35.4   23.0    7.8         1.08\n",
            "4   1,000~3,000만원 미만   100.0   36.7   63.3   39.6   19.3    4.4         0.93\n",
            "5   3,000~5,000만원 미만   100.0   37.4   62.6   43.5   16.3    2.7         0.85\n",
            "6   5,000~7,000만원 미만   100.0   42.7   57.3   41.1   14.3    1.8         0.75\n",
            "7  7,000~10,000만원 미만   100.0   50.7   49.3   37.1   10.9    1.3         0.63\n",
            "8         10,000만원이상   100.0   49.1   50.9   38.8   10.9    1.2         0.64\n",
            "=============================================================================\n",
            "                소득구간     합계  자녀없음 자녀있음_소계 자녀있음_1명 자녀있음_2명 자녀있음_3명이상 평균_출생아수\n",
            "2                 합계  100.0  42.5    57.5    39.7    15.1       2.7    0.79\n",
            "3          1,000만원미만  100.0  33.9    66.1    35.4    23.0       7.8    1.08\n",
            "4   1,000~3,000만원 미만  100.0  36.7    63.3    39.6    19.3       4.4    0.93\n",
            "5   3,000~5,000만원 미만  100.0  37.4    62.6    43.5    16.3       2.7    0.85\n",
            "6   5,000~7,000만원 미만  100.0  42.7    57.3    41.1    14.3       1.8    0.75\n",
            "7  7,000~10,000만원 미만  100.0  50.7    49.3    37.1    10.9       1.3    0.63\n",
            "8         10,000만원이상  100.0  49.1    50.9    38.8    10.9       1.2    0.64\n",
            "=============================================================================\n",
            "                소득구간     합계  자녀없음  자녀있음_소계  자녀있음_1명  자녀있음_2명  자녀있음_3명이상  \\\n",
            "2                 합계  100.0  42.5     57.5     39.7     15.1        2.7   \n",
            "3          1,000만원미만  100.0  33.9     66.1     35.4     23.0        7.8   \n",
            "4   1,000~3,000만원 미만  100.0  36.7     63.3     39.6     19.3        4.4   \n",
            "5   3,000~5,000만원 미만  100.0  37.4     62.6     43.5     16.3        2.7   \n",
            "6   5,000~7,000만원 미만  100.0  42.7     57.3     41.1     14.3        1.8   \n",
            "7  7,000~10,000만원 미만  100.0  50.7     49.3     37.1     10.9        1.3   \n",
            "8         10,000만원이상  100.0  49.1     50.9     38.8     10.9        1.2   \n",
            "\n",
            "   평균_출생아수  \n",
            "2     0.79  \n",
            "3     1.08  \n",
            "4     0.93  \n",
            "5     0.85  \n",
            "6     0.75  \n",
            "7     0.63  \n",
            "8     0.64  \n",
            "평균 출생아수: 0.8099999999999999\n"
          ]
        }
      ]
    },
    {
      "cell_type": "code",
      "source": [
        "# 단계 1: 폰트 설치\n",
        "import matplotlib.font_manager as fm\n",
        "import matplotlib.pyplot as plt\n",
        "\n",
        "!apt-get -qq -y install fonts-nanum > /dev/null\n",
        "#fontpath = '/usr/share/fonts/truetype/nanum/NanumBarunGothic.ttf'\n",
        "\n",
        "#font = fm.FontProperties(fname=fontpath, size=9)\n",
        "\n",
        "#fm._rebuild()\n",
        "\n",
        "\n",
        "\n",
        "fe = fm.FontEntry(\n",
        "    fname=r'/usr/share/fonts/truetype/nanum/NanumBarunGothic.ttf', # ttf 파일이 저장되어 있는 경로\n",
        "    name='NanumGothic')                        # 이 폰트의 원하는 이름 설정\n",
        "fm.fontManager.ttflist.insert(0, fe)              # Matplotlib에 폰트 추가\n",
        "plt.rcParams.update({'font.size': 18, 'font.family': 'NanumGothic'}) # 폰트 설치"
      ],
      "metadata": {
        "id": "1RN394GjAXpw"
      },
      "execution_count": 9,
      "outputs": []
    },
    {
      "cell_type": "code",
      "source": [
        "# 단계 2: 런타임 재시작\n",
        "import os\n",
        "os.kill(os.getpid(), 9)"
      ],
      "metadata": {
        "id": "xgWZP7PZunnd"
      },
      "execution_count": null,
      "outputs": []
    },
    {
      "cell_type": "code",
      "source": [
        "# 단계 3: 한글 폰트 설정\n",
        "import matplotlib.pyplot as plt\n",
        "import matplotlib as mpl\n",
        "import matplotlib.font_manager as fm\n",
        "\n",
        "# 마이너스 표시 문제\n",
        "mpl.rcParams['axes.unicode_minus'] = False\n",
        "\n",
        "# 한글 폰트 설정\n",
        "fe = fm.FontEntry(\n",
        "    fname=r'/usr/share/fonts/truetype/nanum/NanumBarunGothic.ttf', # ttf 파일이 저장되어 있는 경로\n",
        "    name='NanumGothic')                        # 이 폰트의 원하는 이름 설정\n",
        "fm.fontManager.ttflist.insert(0, fe)              # Matplotlib에 폰트 추가\n",
        "plt.rcParams.update({'font.size': 18, 'font.family': 'NanumGothic'}) # 폰트 설치"
      ],
      "metadata": {
        "id": "sA2oH5xHuoFc"
      },
      "execution_count": 1,
      "outputs": []
    }
  ]
}