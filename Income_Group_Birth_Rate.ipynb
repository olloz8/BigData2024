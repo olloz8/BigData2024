{
  "nbformat": 4,
  "nbformat_minor": 0,
  "metadata": {
    "colab": {
      "provenance": [],
      "authorship_tag": "ABX9TyOtbmtsdQSfWUFwFpPaj8R9",
      "include_colab_link": true
    },
    "kernelspec": {
      "name": "python3",
      "display_name": "Python 3"
    },
    "language_info": {
      "name": "python"
    }
  },
  "cells": [
    {
      "cell_type": "markdown",
      "metadata": {
        "id": "view-in-github",
        "colab_type": "text"
      },
      "source": [
        "<a href=\"https://colab.research.google.com/github/olloz8/BigData2024/blob/main/Income_Group_Birth_Rate.ipynb\" target=\"_parent\"><img src=\"https://colab.research.google.com/assets/colab-badge.svg\" alt=\"Open In Colab\"/></a>"
      ]
    },
    {
      "cell_type": "code",
      "execution_count": 3,
      "metadata": {
        "colab": {
          "base_uri": "https://localhost:8080/"
        },
        "id": "CeEu9EVP84wS",
        "outputId": "84067394-aa92-4d94-e261-96423b258147"
      },
      "outputs": [
        {
          "output_type": "stream",
          "name": "stdout",
          "text": [
            "fatal: destination path 'BigData2024' already exists and is not an empty directory.\n"
          ]
        }
      ],
      "source": [
        "#깃허브 연동\n",
        "!git clone https://github.com/olloz8/BigData2024.git"
      ]
    },
    {
      "cell_type": "code",
      "source": [
        "import pandas as pd\n",
        "\n",
        "# CSV 파일 읽기\n",
        "df = pd.read_csv('birthrate.csv', encoding='utf-8')  # 파일 경로를 적절하게 수정하세요\n",
        "\n",
        "# 데이터 확인\n",
        "print(df.head())"
      ],
      "metadata": {
        "colab": {
          "base_uri": "https://localhost:8080/"
        },
        "id": "y1ksGraU97sw",
        "outputId": "b69709f0-bc4e-489b-cb8c-b4ea2da4179f"
      },
      "execution_count": 4,
      "outputs": [
        {
          "output_type": "stream",
          "name": "stdout",
          "text": [
            "           소득구간별(1)    2022 2022.1 2022.2 2022.3 2022.4 2022.5       2022.6\n",
            "0          소득구간별(1)  합계 (%)   자녀없음   자녀있음   자녀있음   자녀있음   자녀있음  평균 출생아수 (명)\n",
            "1          소득구간별(1)      소계     소계     소계     1명     2명   3명이상           소계\n",
            "2                합계   100.0   42.5   57.5   39.7   15.1    2.7         0.79\n",
            "3         1,000만원미만   100.0   33.9   66.1   35.4   23.0    7.8         1.08\n",
            "4  1,000~3,000만원 미만   100.0   36.7   63.3   39.6   19.3    4.4         0.93\n"
          ]
        }
      ]
    }
  ]
}